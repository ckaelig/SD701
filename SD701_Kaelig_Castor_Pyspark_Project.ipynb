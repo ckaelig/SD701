{
  "nbformat": 4,
  "nbformat_minor": 0,
  "metadata": {
    "kernelspec": {
      "display_name": "Python 3",
      "language": "python",
      "name": "python3"
    },
    "language_info": {
      "codemirror_mode": {
        "name": "ipython",
        "version": 3
      },
      "file_extension": ".py",
      "mimetype": "text/x-python",
      "name": "python",
      "nbconvert_exporter": "python",
      "pygments_lexer": "ipython3",
      "version": "3.7.7"
    },
    "colab": {
      "name": "SD701_Kaelig_Castor_Pyspark_Project.ipynb",
      "provenance": [],
      "collapsed_sections": [],
      "machine_shape": "hm"
    }
  },
  "cells": [
    {
      "cell_type": "markdown",
      "metadata": {
        "id": "nTqO8akSYrRh"
      },
      "source": [
        "<center> <h1> PROJECT : \"SPARK with PySpark\" </h1> </center>\n",
        "\n",
        "<center> <h2> Recommendation System on Music Artists </h2> </center>\n",
        "\n",
        "<center> <h3> 2019/12/26 </h3> </center>\n",
        "\n",
        "<center> <h3> Kaelig Castor </h3> </center>"
      ]
    },
    {
      "cell_type": "markdown",
      "metadata": {
        "id": "NZPmwCsvYrRj"
      },
      "source": [
        "<p style='text-align: justify;'> <b> \n",
        "This notebook uses a music streaming database to build a recommendation system.\n",
        "<br> \n",
        "<br>\n",
        "The dataset consists in 3 files :\n",
        "    \n",
        "- **`user_artist_data.txt`**: About 140,000+ unique users, and 1.6 million unique artists. About 24.2 million users' plays of artists' are recorded, along with their count (3 columns separated by spaces) : \n",
        "\n",
        "| UserID | ArtistID | PlayCount |\n",
        "|----|----|----|\n",
        "| ...|...|...|\n",
        "\n",
        "\n",
        "- **`artist_data.txt`** : Names of each artist by their IDs (2 columns separated by tab characters (`\\t`)) :\n",
        "\n",
        "| ArtistID | Name |\n",
        "|---|---|\n",
        "|...|...|\n",
        "\n",
        "- **`artist_alias.txt`**: The artist's name can be misspelled and may be distinct artist IDs in the data set. `artist_alias.txt` maps artist IDs that are known misspellings (2 columns separated by tab characters (`\\t`)) :\n",
        "\n",
        "| MisspelledArtistID | StandardArtistID |\n",
        "|---|---|\n",
        "|...|...|\n",
        "\n",
        "</p> </b> "
      ]
    },
    {
      "cell_type": "markdown",
      "metadata": {
        "id": "gwkmPptyYrRk"
      },
      "source": [
        "Unlike an **explicit** rating dataset which contains information about users' preference for products, the datasets used here only has information about events: specifically, it keeps track of how many times a user played songs of a given artist and the names of artists. In the literature, this is called **implicit** rating."
      ]
    },
    {
      "cell_type": "code",
      "metadata": {
        "id": "aeRuII9YYzkX",
        "colab": {
          "base_uri": "https://localhost:8080/"
        },
        "outputId": "fcff041c-3527-4cb7-a748-ee12efa2a363"
      },
      "source": [
        "from google.colab import drive\n",
        "drive.mount('/content/drive')\n",
        "import os\n",
        "local_path='/content/drive/My Drive/SD701/'\n",
        "os.chdir(local_path)\n",
        "!pwd"
      ],
      "execution_count": 1,
      "outputs": [
        {
          "output_type": "stream",
          "text": [
            "Mounted at /content/drive\n",
            "/content/drive/My Drive/SD701\n"
          ],
          "name": "stdout"
        }
      ]
    },
    {
      "cell_type": "code",
      "metadata": {
        "id": "FftkqN3jZoUg"
      },
      "source": [
        "!apt-get install openjdk-8-jdk-headless -qq > /dev/null\n",
        "!wget -q https://www-us.apache.org/dist/spark/spark-2.4.1/spark-2.4.1-bin-hadoop2.7.tgz\n",
        "!ls\n",
        "!mv spark-3.0.0-preview2-bin-hadoop2.7.tgz.2 spark-3.0.0-preview2-bin-hadoop2.7.tgz\n",
        "!ls\n",
        "!tar xf spark-3.0.0-preview2-bin-hadoop2.7.tgz\n",
        "!pip install -q findspark"
      ],
      "execution_count": null,
      "outputs": []
    },
    {
      "cell_type": "code",
      "metadata": {
        "id": "1h47YISa0wXW"
      },
      "source": [
        "import os\r\n",
        "os.environ[\"JAVA_HOME\"] = \"/usr/lib/jvm/java-8-openjdk-amd64/\"  \r\n",
        "os.environ[\"SPARK_HOME\"] = \"/content/drive/My Drive/SD701/spark-3.0.0-preview2-bin-hadoop2.7\"  \r\n",
        "import findspark\r\n",
        "findspark.init()"
      ],
      "execution_count": null,
      "outputs": []
    },
    {
      "cell_type": "code",
      "metadata": {
        "id": "oc8arr8xYrRl"
      },
      "source": [
        "import numpy as np\n",
        "import pandas as pd\n",
        "import matplotlib.pylab as plt\n",
        "import seaborn as sns\n",
        "import sys\n",
        "import re\n",
        "import random\n",
        "from pyspark.sql.types import *\n",
        "from pyspark.sql import Row\n",
        "from pyspark.sql.functions import *\n",
        "%matplotlib inline\n",
        "from time import time\n",
        "from pyspark import SparkContext, SparkConf\n",
        "from pyspark.sql import SQLContext, SparkSession\n",
        "from pyspark.ml.recommendation import ALS\n",
        "from pyspark.ml.evaluation import RegressionEvaluator\n",
        "from pyspark.ml.tuning import CrossValidator, ParamGridBuilder\n",
        "from pyspark.mllib.evaluation import BinaryClassificationMetrics\n",
        "import warnings\n",
        "warnings.filterwarnings('ignore')\n",
        "from ipywidgets import interact, interactive, fixed, interact_manual\n",
        "import ipywidgets as widgets"
      ],
      "execution_count": 3,
      "outputs": []
    },
    {
      "cell_type": "code",
      "metadata": {
        "id": "JqocijD-buSj",
        "colab": {
          "base_uri": "https://localhost:8080/"
        },
        "outputId": "1ad3e38a-4477-4f8d-e486-2ee7d808930d"
      },
      "source": [
        "os.chdir(local_path)\n",
        "!pwd"
      ],
      "execution_count": 5,
      "outputs": [
        {
          "output_type": "stream",
          "text": [
            "/content/drive/My Drive/SD701\n"
          ],
          "name": "stdout"
        }
      ]
    },
    {
      "cell_type": "code",
      "metadata": {
        "id": "JML5ryEHYrR9"
      },
      "source": [
        "spark = SparkSession.builder.getOrCreate()\n",
        "spark.conf.set(\"spark.sql.shuffle.partitions\",\"5\")"
      ],
      "execution_count": 14,
      "outputs": []
    },
    {
      "cell_type": "code",
      "metadata": {
        "id": "FUuLVNfyYrR_",
        "colab": {
          "base_uri": "https://localhost:8080/",
          "height": 216
        },
        "outputId": "99912a80-c273-43e3-9479-891a62f2c8ff"
      },
      "source": [
        "spark"
      ],
      "execution_count": 15,
      "outputs": [
        {
          "output_type": "execute_result",
          "data": {
            "text/html": [
              "\n",
              "            <div>\n",
              "                <p><b>SparkSession - in-memory</b></p>\n",
              "                \n",
              "        <div>\n",
              "            <p><b>SparkContext</b></p>\n",
              "\n",
              "            <p><a href=\"http://84d87a2730ce:4040\">Spark UI</a></p>\n",
              "\n",
              "            <dl>\n",
              "              <dt>Version</dt>\n",
              "                <dd><code>v3.0.0-preview2</code></dd>\n",
              "              <dt>Master</dt>\n",
              "                <dd><code>local[*]</code></dd>\n",
              "              <dt>AppName</dt>\n",
              "                <dd><code>Project</code></dd>\n",
              "            </dl>\n",
              "        </div>\n",
              "        \n",
              "            </div>\n",
              "        "
            ],
            "text/plain": [
              "<pyspark.sql.session.SparkSession at 0x7f84e577b2e8>"
            ]
          },
          "metadata": {
            "tags": []
          },
          "execution_count": 15
        }
      ]
    },
    {
      "cell_type": "code",
      "metadata": {
        "id": "-1w2xuU_YrSN"
      },
      "source": [
        "customSchemaArtists = StructType([ \\\n",
        "    StructField(\"artistid\", IntegerType(), True), \\\n",
        "    StructField(\"name\", StringType(), True)])\n",
        "artists = spark.read.csv('./dataset_artist/artist_data.txt', sep='\\t', schema = customSchemaArtists)\n",
        "aliases = spark.read.csv('./dataset_artist/artist_alias.txt', sep='\\t', inferSchema=True)\n",
        "aliases = aliases.withColumnRenamed(\"_c0\", \"mispelledid\").withColumnRenamed(\"_c1\", \"artistid\")\n",
        "data = spark.read.csv('./dataset_artist/user_artist_data.txt', sep=' ', inferSchema = True)\n",
        "data = data.withColumnRenamed(\"_c0\", \"userid\").withColumnRenamed(\"_c1\", \"artistid\").withColumnRenamed(\"_c2\", \"plays\")"
      ],
      "execution_count": 21,
      "outputs": []
    },
    {
      "cell_type": "code",
      "metadata": {
        "id": "343kGPSaYrST",
        "colab": {
          "base_uri": "https://localhost:8080/"
        },
        "outputId": "3679f173-6ee4-4420-9331-05c44f03b225"
      },
      "source": [
        "data.describe().show()"
      ],
      "execution_count": 24,
      "outputs": [
        {
          "output_type": "stream",
          "text": [
            "+-------+------------------+------------------+-----------------+\n",
            "|summary|            userid|          artistid|            plays|\n",
            "+-------+------------------+------------------+-----------------+\n",
            "|  count|          24296858|          24296858|         24296858|\n",
            "|   mean|1947573.2653533637|1718704.0937568964|15.29576248089362|\n",
            "| stddev| 496000.5551819132| 2539389.092428355|153.9153244697963|\n",
            "|    min|                90|                 1|                1|\n",
            "|    max|           2443548|          10794401|           439771|\n",
            "+-------+------------------+------------------+-----------------+\n",
            "\n"
          ],
          "name": "stdout"
        }
      ]
    },
    {
      "cell_type": "markdown",
      "metadata": {
        "id": "i978nfqRSnXH"
      },
      "source": [
        "Total number of users:  148111\r\n",
        "\r\n",
        "Total number of artists:  1631028"
      ]
    },
    {
      "cell_type": "markdown",
      "metadata": {
        "id": "OGrwPq0iUhqD"
      },
      "source": [
        "### Databade cleaning and preparation"
      ]
    },
    {
      "cell_type": "markdown",
      "metadata": {
        "id": "SHWYuJYUYrSW"
      },
      "source": [
        "In order to get consistent predictions in the recommendation model, we remove any user with less than 5 plays of an artist. Also, any user with more than 1000 plays of an artist is removed."
      ]
    },
    {
      "cell_type": "code",
      "metadata": {
        "id": "ya9sp2-0YrSW",
        "colab": {
          "base_uri": "https://localhost:8080/"
        },
        "outputId": "f4b487b0-17b9-47b6-fd81-d3c920db2ff0"
      },
      "source": [
        "%%time\n",
        "subset = data.filter((data['plays'] >= 5) & (data['plays'] <= 1000))\n",
        "subset.describe().show()\n",
        "subset.show()"
      ],
      "execution_count": 25,
      "outputs": [
        {
          "output_type": "stream",
          "text": [
            "+-------+------------------+------------------+-----------------+\n",
            "|summary|            userid|          artistid|            plays|\n",
            "+-------+------------------+------------------+-----------------+\n",
            "|  count|           9307579|           9307579|          9307579|\n",
            "|   mean| 1939013.336777265|1319484.9944439903|33.86969006655759|\n",
            "| stddev|490854.13913767406| 2015181.414814242|66.60665066398262|\n",
            "|    min|                90|                 1|                5|\n",
            "|    max|           2443507|          10794325|             1000|\n",
            "+-------+------------------+------------------+-----------------+\n",
            "\n",
            "+-------+--------+-----+\n",
            "| userid|artistid|plays|\n",
            "+-------+--------+-----+\n",
            "|1000002|       1|   55|\n",
            "|1000002| 1000006|   33|\n",
            "|1000002| 1000007|    8|\n",
            "|1000002| 1000009|  144|\n",
            "|1000002| 1000010|  314|\n",
            "|1000002| 1000013|    8|\n",
            "|1000002| 1000014|   42|\n",
            "|1000002| 1000017|   69|\n",
            "|1000002| 1000024|  329|\n",
            "|1000002| 1000028|   17|\n",
            "|1000002| 1000031|   47|\n",
            "|1000002| 1000033|   15|\n",
            "|1000002| 1000055|   25|\n",
            "|1000002| 1000062|   71|\n",
            "|1000002| 1000088|  157|\n",
            "|1000002| 1000099|   57|\n",
            "|1000002| 1000113|   30|\n",
            "|1000002| 1000123|   27|\n",
            "|1000002| 1000127|   53|\n",
            "|1000002| 1000139|   56|\n",
            "+-------+--------+-----+\n",
            "only showing top 20 rows\n",
            "\n",
            "CPU times: user 6.94 ms, sys: 1.68 ms, total: 8.62 ms\n",
            "Wall time: 17.2 s\n"
          ],
          "name": "stdout"
        }
      ]
    },
    {
      "cell_type": "code",
      "metadata": {
        "id": "tRipzRbvYrSa",
        "colab": {
          "base_uri": "https://localhost:8080/",
          "height": 197
        },
        "outputId": "38214897-6794-4ed1-d718-c8ef4598bbfd"
      },
      "source": [
        "subset_pd = subset.sample(withReplacement=False, fraction=0.01, seed=42).toPandas()\n",
        "subset_pd.head()"
      ],
      "execution_count": 26,
      "outputs": [
        {
          "output_type": "execute_result",
          "data": {
            "text/html": [
              "<div>\n",
              "<style scoped>\n",
              "    .dataframe tbody tr th:only-of-type {\n",
              "        vertical-align: middle;\n",
              "    }\n",
              "\n",
              "    .dataframe tbody tr th {\n",
              "        vertical-align: top;\n",
              "    }\n",
              "\n",
              "    .dataframe thead th {\n",
              "        text-align: right;\n",
              "    }\n",
              "</style>\n",
              "<table border=\"1\" class=\"dataframe\">\n",
              "  <thead>\n",
              "    <tr style=\"text-align: right;\">\n",
              "      <th></th>\n",
              "      <th>userid</th>\n",
              "      <th>artistid</th>\n",
              "      <th>plays</th>\n",
              "    </tr>\n",
              "  </thead>\n",
              "  <tbody>\n",
              "    <tr>\n",
              "      <th>0</th>\n",
              "      <td>1000002</td>\n",
              "      <td>4377</td>\n",
              "      <td>18</td>\n",
              "    </tr>\n",
              "    <tr>\n",
              "      <th>1</th>\n",
              "      <td>1000019</td>\n",
              "      <td>1000412</td>\n",
              "      <td>5</td>\n",
              "    </tr>\n",
              "    <tr>\n",
              "      <th>2</th>\n",
              "      <td>1000019</td>\n",
              "      <td>1002847</td>\n",
              "      <td>6</td>\n",
              "    </tr>\n",
              "    <tr>\n",
              "      <th>3</th>\n",
              "      <td>1000020</td>\n",
              "      <td>2132</td>\n",
              "      <td>48</td>\n",
              "    </tr>\n",
              "    <tr>\n",
              "      <th>4</th>\n",
              "      <td>1000022</td>\n",
              "      <td>3009</td>\n",
              "      <td>16</td>\n",
              "    </tr>\n",
              "  </tbody>\n",
              "</table>\n",
              "</div>"
            ],
            "text/plain": [
              "    userid  artistid  plays\n",
              "0  1000002      4377     18\n",
              "1  1000019   1000412      5\n",
              "2  1000019   1002847      6\n",
              "3  1000020      2132     48\n",
              "4  1000022      3009     16"
            ]
          },
          "metadata": {
            "tags": []
          },
          "execution_count": 26
        }
      ]
    },
    {
      "cell_type": "code",
      "metadata": {
        "id": "je6EeSFaYrSc",
        "colab": {
          "base_uri": "https://localhost:8080/",
          "height": 420
        },
        "outputId": "1b1b4179-379b-454e-9c96-2ac08f02b8c4"
      },
      "source": [
        "plt.subplots(figsize=(15, 6))\n",
        "sns.distplot(subset_pd.plays, bins = 1000, kde = False, color='red')\n",
        "plt.grid(which=\"major\", axis=\"y\")\n",
        "plt.xlabel(\"Play Count\", size=18, fontsize=18)\n",
        "plt.ylabel(\"Occurences\", size=18, fontsize=18)\n",
        "plt.xscale('log')\n",
        "plt.title(\"Play Count Distribution\", size=18, fontsize=18);"
      ],
      "execution_count": 27,
      "outputs": [
        {
          "output_type": "display_data",
          "data": {
            "image/png": "[encoded data removed]",
            "text/plain": [
              "<Figure size 1080x432 with 1 Axes>"
            ]
          },
          "metadata": {
            "tags": [],
            "needs_background": "light"
          }
        }
      ]
    },
    {
      "cell_type": "markdown",
      "metadata": {
        "id": "LGDUdVMuYrSe"
      },
      "source": [
        "We see an exponential decrease in the play count distribution."
      ]
    },
    {
      "cell_type": "markdown",
      "metadata": {
        "id": "tMgQqmFhYrSh"
      },
      "source": [
        "The following command checks if there is any null value in the dataset."
      ]
    },
    {
      "cell_type": "code",
      "metadata": {
        "id": "M2rHD20GYrSh",
        "colab": {
          "base_uri": "https://localhost:8080/"
        },
        "outputId": "f54dbe19-16a3-4969-e342-abd9199da7bd"
      },
      "source": [
        "subset.select([count(when(isnan(c), c)).alias(c) for c in data.columns]).show()"
      ],
      "execution_count": 29,
      "outputs": [
        {
          "output_type": "stream",
          "text": [
            "+------+--------+-----+\n",
            "|userid|artistid|plays|\n",
            "+------+--------+-----+\n",
            "|     0|       0|    0|\n",
            "+------+--------+-----+\n",
            "\n"
          ],
          "name": "stdout"
        }
      ]
    },
    {
      "cell_type": "code",
      "metadata": {
        "id": "2TKepqZ6YrSj",
        "colab": {
          "base_uri": "https://localhost:8080/"
        },
        "outputId": "700b4d61-4274-4e1f-b976-baa25791ada4"
      },
      "source": [
        "subset.printSchema()"
      ],
      "execution_count": 30,
      "outputs": [
        {
          "output_type": "stream",
          "text": [
            "root\n",
            " |-- userid: integer (nullable = true)\n",
            " |-- artistid: integer (nullable = true)\n",
            " |-- plays: integer (nullable = true)\n",
            "\n"
          ],
          "name": "stdout"
        }
      ]
    },
    {
      "cell_type": "code",
      "metadata": {
        "id": "YDrUu8UcYrSl",
        "colab": {
          "base_uri": "https://localhost:8080/"
        },
        "outputId": "77e5adbe-38b8-4bb0-ade6-51fb2ce1c503"
      },
      "source": [
        "artists.show()"
      ],
      "execution_count": 31,
      "outputs": [
        {
          "output_type": "stream",
          "text": [
            "+--------+--------------------+\n",
            "|artistid|                name|\n",
            "+--------+--------------------+\n",
            "| 1134999|        06Crazy Life|\n",
            "| 6821360|        Pang Nakarin|\n",
            "|10113088|Terfel, Bartoli- ...|\n",
            "|10151459| The Flaming Sidebur|\n",
            "| 6826647|   Bodenstandig 3000|\n",
            "|10186265|Jota Quest e Ivet...|\n",
            "| 6828986|       Toto_XX (1977|\n",
            "|10236364|         U.S Bombs -|\n",
            "| 1135000|artist formaly kn...|\n",
            "|10299728|Kassierer - Musik...|\n",
            "|10299744|         Rahzel, RZA|\n",
            "| 6864258|      Jon Richardson|\n",
            "| 6878791|Young Fresh Fello...|\n",
            "|10299751|          Ki-ya-Kiss|\n",
            "| 6909716|Underminded - The...|\n",
            "|10435121|             Kox-Box|\n",
            "| 6918061|  alexisonfire [wo!]|\n",
            "| 1135001|         dj salinger|\n",
            "| 6940391|The B52's - Chann...|\n",
            "|10475396|             44 Hoes|\n",
            "+--------+--------------------+\n",
            "only showing top 20 rows\n",
            "\n"
          ],
          "name": "stdout"
        }
      ]
    },
    {
      "cell_type": "code",
      "metadata": {
        "id": "lajxcWxMYrSn",
        "colab": {
          "base_uri": "https://localhost:8080/"
        },
        "outputId": "6a5313f4-1312-4e76-baf0-b327e540df4b"
      },
      "source": [
        "artists.describe().show()"
      ],
      "execution_count": 32,
      "outputs": [
        {
          "output_type": "stream",
          "text": [
            "+-------+-----------------+---------------+\n",
            "|summary|         artistid|           name|\n",
            "+-------+-----------------+---------------+\n",
            "|  count|          1848281|        1848295|\n",
            "|   mean|7028265.171776369|            NaN|\n",
            "| stddev| 3753055.54540281|            NaN|\n",
            "|    min|                1|              \u0001|\n",
            "|    max|         10794305|￿￿￿￿￿￿￿￿￿￿￿￿くȁ|\n",
            "+-------+-----------------+---------------+\n",
            "\n"
          ],
          "name": "stdout"
        }
      ]
    },
    {
      "cell_type": "markdown",
      "metadata": {
        "id": "AxUuSSkCYrSp"
      },
      "source": [
        "Some artists have mispelled or complex names. For example, if we take the artist name \"John Coltrane\", we find the number of distinct occurrences. We can see it repeats itself various times having different IDs, which may bias our predictions."
      ]
    },
    {
      "cell_type": "code",
      "metadata": {
        "id": "fkLjiiMgYrSq"
      },
      "source": [
        "artists.createOrReplaceTempView(\"artists\")\n",
        "sqlDF = spark.sql(\"SELECT * FROM artists where name like '%John Coltrane%'\")"
      ],
      "execution_count": 33,
      "outputs": []
    },
    {
      "cell_type": "code",
      "metadata": {
        "id": "vePwpLioYrSs",
        "colab": {
          "base_uri": "https://localhost:8080/",
          "height": 347
        },
        "outputId": "33de5ede-11d8-4aa0-e47b-08eb1ecd5908"
      },
      "source": [
        "DFP = sqlDF.distinct().toPandas()\n",
        "DFP.head(10)"
      ],
      "execution_count": 34,
      "outputs": [
        {
          "output_type": "execute_result",
          "data": {
            "text/html": [
              "<div>\n",
              "<style scoped>\n",
              "    .dataframe tbody tr th:only-of-type {\n",
              "        vertical-align: middle;\n",
              "    }\n",
              "\n",
              "    .dataframe tbody tr th {\n",
              "        vertical-align: top;\n",
              "    }\n",
              "\n",
              "    .dataframe thead th {\n",
              "        text-align: right;\n",
              "    }\n",
              "</style>\n",
              "<table border=\"1\" class=\"dataframe\">\n",
              "  <thead>\n",
              "    <tr style=\"text-align: right;\">\n",
              "      <th></th>\n",
              "      <th>artistid</th>\n",
              "      <th>name</th>\n",
              "    </tr>\n",
              "  </thead>\n",
              "  <tbody>\n",
              "    <tr>\n",
              "      <th>0</th>\n",
              "      <td>10590286</td>\n",
              "      <td>Miles Davis, John Coltrane &amp; Cannonball Adderley</td>\n",
              "    </tr>\n",
              "    <tr>\n",
              "      <th>1</th>\n",
              "      <td>1276695</td>\n",
              "      <td>Miles Davis, Cannonball Adderley, John Coltran...</td>\n",
              "    </tr>\n",
              "    <tr>\n",
              "      <th>2</th>\n",
              "      <td>1281076</td>\n",
              "      <td>Thelonious Monk, John Coltrane, Wilbur Ware</td>\n",
              "    </tr>\n",
              "    <tr>\n",
              "      <th>3</th>\n",
              "      <td>10488903</td>\n",
              "      <td>John Coltrane-Giant Steps</td>\n",
              "    </tr>\n",
              "    <tr>\n",
              "      <th>4</th>\n",
              "      <td>10489679</td>\n",
              "      <td>The John Coltrane Sextet</td>\n",
              "    </tr>\n",
              "    <tr>\n",
              "      <th>5</th>\n",
              "      <td>10117215</td>\n",
              "      <td>John Coltrane w/Thelonius Monk</td>\n",
              "    </tr>\n",
              "    <tr>\n",
              "      <th>6</th>\n",
              "      <td>1312936</td>\n",
              "      <td>John Coltrane Live at Birdland</td>\n",
              "    </tr>\n",
              "    <tr>\n",
              "      <th>7</th>\n",
              "      <td>10642215</td>\n",
              "      <td>John Coltrane and Frank Wess</td>\n",
              "    </tr>\n",
              "    <tr>\n",
              "      <th>8</th>\n",
              "      <td>10643478</td>\n",
              "      <td>Miles Davis Quintet Feat. John Coltrane</td>\n",
              "    </tr>\n",
              "    <tr>\n",
              "      <th>9</th>\n",
              "      <td>1201020</td>\n",
              "      <td>Cannonball Adderley and John Coltrane -02</td>\n",
              "    </tr>\n",
              "  </tbody>\n",
              "</table>\n",
              "</div>"
            ],
            "text/plain": [
              "   artistid                                               name\n",
              "0  10590286   Miles Davis, John Coltrane & Cannonball Adderley\n",
              "1   1276695  Miles Davis, Cannonball Adderley, John Coltran...\n",
              "2   1281076        Thelonious Monk, John Coltrane, Wilbur Ware\n",
              "3  10488903                          John Coltrane-Giant Steps\n",
              "4  10489679                           The John Coltrane Sextet\n",
              "5  10117215                     John Coltrane w/Thelonius Monk\n",
              "6   1312936                     John Coltrane Live at Birdland\n",
              "7  10642215                       John Coltrane and Frank Wess\n",
              "8  10643478            Miles Davis Quintet Feat. John Coltrane\n",
              "9   1201020          Cannonball Adderley and John Coltrane -02"
            ]
          },
          "metadata": {
            "tags": []
          },
          "execution_count": 34
        }
      ]
    },
    {
      "cell_type": "code",
      "metadata": {
        "id": "m4ThUBDcYrSu",
        "colab": {
          "base_uri": "https://localhost:8080/"
        },
        "outputId": "5fe0537a-4750-4824-f02b-041c3496c985"
      },
      "source": [
        "sqlDF.distinct().count()"
      ],
      "execution_count": 35,
      "outputs": [
        {
          "output_type": "execute_result",
          "data": {
            "text/plain": [
              "414"
            ]
          },
          "metadata": {
            "tags": []
          },
          "execution_count": 35
        }
      ]
    },
    {
      "cell_type": "markdown",
      "metadata": {
        "id": "1DqUBamlYrSw"
      },
      "source": [
        "In the following exemple, the artistID = 360 corresponds to a correct artist name (standing for \"John Coltrane\"). Mispelled artist ID are stored in the variable named 'aliases'. So, as an exemple, **artistID = 1244643 is mispelled and corresponds to artistID = 360**"
      ]
    },
    {
      "cell_type": "code",
      "metadata": {
        "id": "rz4c1WSLYrSx",
        "colab": {
          "base_uri": "https://localhost:8080/"
        },
        "outputId": "f784e809-94a0-4a69-ca15-d064165e246a"
      },
      "source": [
        "artists[artists.artistid==1244643].show()\n",
        "artists[artists.artistid==360].show()"
      ],
      "execution_count": 36,
      "outputs": [
        {
          "output_type": "stream",
          "text": [
            "+--------+----------------+\n",
            "|artistid|            name|\n",
            "+--------+----------------+\n",
            "| 1244643|03 John Coltrane|\n",
            "+--------+----------------+\n",
            "\n",
            "+--------+-------------+\n",
            "|artistid|         name|\n",
            "+--------+-------------+\n",
            "|     360|John Coltrane|\n",
            "+--------+-------------+\n",
            "\n"
          ],
          "name": "stdout"
        }
      ]
    },
    {
      "cell_type": "code",
      "metadata": {
        "id": "EBnhhattYrSz",
        "colab": {
          "base_uri": "https://localhost:8080/"
        },
        "outputId": "7b308b16-713a-4aea-c884-d63a6c2cbbc0"
      },
      "source": [
        "aliases[aliases.mispelledid==1244643].show()\n",
        "aliases[aliases.mispelledid==360].show()"
      ],
      "execution_count": 37,
      "outputs": [
        {
          "output_type": "stream",
          "text": [
            "+-----------+--------+\n",
            "|mispelledid|artistid|\n",
            "+-----------+--------+\n",
            "|    1244643|     360|\n",
            "+-----------+--------+\n",
            "\n",
            "+-----------+--------+\n",
            "|mispelledid|artistid|\n",
            "+-----------+--------+\n",
            "+-----------+--------+\n",
            "\n"
          ],
          "name": "stdout"
        }
      ]
    },
    {
      "cell_type": "markdown",
      "metadata": {
        "id": "MgwAlTWXYrS1"
      },
      "source": [
        "The misspelled artist ID are replaced by the correct ones."
      ]
    },
    {
      "cell_type": "code",
      "metadata": {
        "id": "FA0y88MHYrS1"
      },
      "source": [
        "id1=1244643"
      ],
      "execution_count": 38,
      "outputs": []
    },
    {
      "cell_type": "code",
      "metadata": {
        "id": "10HlZqqsYrS4"
      },
      "source": [
        "subset[subset.artistid==id1].collect()\n",
        "strangeuserid = subset[subset.artistid==id1].userid\n",
        "strangeUserActivity = subset[subset.userid==strangeuserid]\n",
        "artists = strangeUserActivity.join(artists, on = \"artistid\")"
      ],
      "execution_count": 39,
      "outputs": []
    },
    {
      "cell_type": "code",
      "metadata": {
        "id": "NEKgsvD9YrS6",
        "colab": {
          "base_uri": "https://localhost:8080/"
        },
        "outputId": "21fecc9d-6b95-4cb5-a594-eb2ed4295ada"
      },
      "source": [
        "artists[artists.artistid==360].show()\n",
        "artists[artists.artistid==1244643].show()"
      ],
      "execution_count": 40,
      "outputs": [
        {
          "output_type": "stream",
          "text": [
            "+--------+-------+-----+-------------+\n",
            "|artistid| userid|plays|         name|\n",
            "+--------+-------+-----+-------------+\n",
            "|     360|1000002|    5|John Coltrane|\n",
            "|     360|1000082|   11|John Coltrane|\n",
            "|     360|1000102|   32|John Coltrane|\n",
            "|     360|1000105|    6|John Coltrane|\n",
            "|     360|1000107|   35|John Coltrane|\n",
            "|     360|1000111|    6|John Coltrane|\n",
            "|     360|1000119|   17|John Coltrane|\n",
            "|     360|1000127|   11|John Coltrane|\n",
            "|     360|1000176|   53|John Coltrane|\n",
            "|     360|1000178|   13|John Coltrane|\n",
            "|     360|1000224|   12|John Coltrane|\n",
            "|     360|1000258|   43|John Coltrane|\n",
            "|     360|1000259|   58|John Coltrane|\n",
            "|     360|1000274|   10|John Coltrane|\n",
            "|     360|1000301|   98|John Coltrane|\n",
            "|     360|1000307|    7|John Coltrane|\n",
            "|     360|1000327|   16|John Coltrane|\n",
            "|     360|1000390|    7|John Coltrane|\n",
            "|     360|1000395|   20|John Coltrane|\n",
            "|     360|1000428|   21|John Coltrane|\n",
            "+--------+-------+-----+-------------+\n",
            "only showing top 20 rows\n",
            "\n",
            "+--------+------+-----+----+\n",
            "|artistid|userid|plays|name|\n",
            "+--------+------+-----+----+\n",
            "+--------+------+-----+----+\n",
            "\n"
          ],
          "name": "stdout"
        }
      ]
    },
    {
      "cell_type": "code",
      "metadata": {
        "id": "7iG_XoIaYrS8",
        "colab": {
          "base_uri": "https://localhost:8080/"
        },
        "outputId": "59f4577c-dbb5-4487-a551-a1719790fa92"
      },
      "source": [
        "subset = artists\n",
        "subset.describe().show()"
      ],
      "execution_count": 41,
      "outputs": [
        {
          "output_type": "stream",
          "text": [
            "+-------+------------------+------------------+-----------------+--------------+\n",
            "|summary|          artistid|            userid|            plays|          name|\n",
            "+-------+------------------+------------------+-----------------+--------------+\n",
            "|  count|           9306376|           9306376|          9306376|       9306168|\n",
            "|   mean|1319277.8503197164|1939115.8133319565|33.87218537054596|      Infinity|\n",
            "| stddev| 2015061.840234866|490788.62697331404|66.61000116270195|           NaN|\n",
            "|    min|                 1|                90|                5|            \u0019Z|\n",
            "|    max|          10794235|           2443507|             1000|￾氀挀 渀䌀愀渀|\n",
            "+-------+------------------+------------------+-----------------+--------------+\n",
            "\n"
          ],
          "name": "stdout"
        }
      ]
    },
    {
      "cell_type": "markdown",
      "metadata": {
        "id": "H54qCOZkYrS-"
      },
      "source": [
        "In order to approach a normalized distribution, we use a log transformation of the variable to explain."
      ]
    },
    {
      "cell_type": "code",
      "metadata": {
        "id": "zr66QMl1YrS_"
      },
      "source": [
        "subset = subset.withColumn(\"log_plays\",log1p(\"plays\"))"
      ],
      "execution_count": 42,
      "outputs": []
    },
    {
      "cell_type": "code",
      "metadata": {
        "id": "0ZWkvn0zYrTB"
      },
      "source": [
        "subset_pd = subset.sample(withReplacement=False, fraction=0.01, seed=42).toPandas()"
      ],
      "execution_count": 43,
      "outputs": []
    },
    {
      "cell_type": "code",
      "metadata": {
        "id": "ZgQIvM3QYrTD",
        "colab": {
          "base_uri": "https://localhost:8080/",
          "height": 415
        },
        "outputId": "3227e83b-f955-4e9f-ee45-d65705a5070a"
      },
      "source": [
        "plt.subplots(figsize=(15, 6))\n",
        "sns.distplot(subset_pd.log_plays, color='red')\n",
        "plt.grid(which=\"major\", axis=\"y\")\n",
        "plt.xlabel(\"Play Count\", size=14, fontsize=18)\n",
        "plt.title(\"Play Count Distribution\", size=16, fontsize=18);"
      ],
      "execution_count": 44,
      "outputs": [
        {
          "output_type": "display_data",
          "data": {
            "image/png": "[encoded data removed]",
            "text/plain": [
              "<Figure size 1080x432 with 1 Axes>"
            ]
          },
          "metadata": {
            "tags": [],
            "needs_background": "light"
          }
        }
      ]
    },
    {
      "cell_type": "markdown",
      "metadata": {
        "id": "jzrpmBT0UGsn"
      },
      "source": [
        "### More Database exploration"
      ]
    },
    {
      "cell_type": "code",
      "metadata": {
        "id": "pt916vuPYrUp",
        "colab": {
          "base_uri": "https://localhost:8080/",
          "height": 415
        },
        "outputId": "5da6b9e1-c5d6-4fa4-b17e-84302e4c0145"
      },
      "source": [
        "top10ArtistsPC = subset.groupBy(\"name\").sum(\"plays\").orderBy('sum(plays)', ascending=0).take(10)\n",
        "top10ArtistsPC = pd.DataFrame(data=top10ArtistsPC)\n",
        "\n",
        "plt.subplots(figsize=(15, 6))\n",
        "sns.barplot(x=top10ArtistsPC[1]/1000000, y=top10ArtistsPC[0])\n",
        "plt.xlabel('Play Count  (in millions)', fontsize=18)\n",
        "plt.ylabel('Artist', fontsize=18)\n",
        "plt.title('Top-10 Artists per play counts', fontsize=18);"
      ],
      "execution_count": 70,
      "outputs": [
        {
          "output_type": "display_data",
          "data": {
            "image/png": "[encoded data removed]",
            "text/plain": [
              "<Figure size 1080x432 with 1 Axes>"
            ]
          },
          "metadata": {
            "tags": [],
            "needs_background": "light"
          }
        }
      ]
    },
    {
      "cell_type": "code",
      "metadata": {
        "id": "xjaeKeQKYrUr",
        "colab": {
          "base_uri": "https://localhost:8080/",
          "height": 415
        },
        "outputId": "49e1ee81-9131-42c4-b270-748371deac4d"
      },
      "source": [
        "top10ArtistsUC = (subset.dropDuplicates(['userid', 'artistid']).groupBy(\"name\").count().orderBy(\"count\", ascending=0).take(10))\n",
        "top10ArtistsUC = pd.DataFrame(top10ArtistsUC)\n",
        "\n",
        "plt.subplots(figsize=(15, 6))\n",
        "sns.barplot(x=top10ArtistsPC[1]/1000000, y=top10ArtistsUC[0])\n",
        "plt.xlabel('Audience size (in millions)', fontsize=18)\n",
        "plt.ylabel('Artist', fontsize=18)\n",
        "plt.title('Top-10 Artists per audience size', fontsize=18);"
      ],
      "execution_count": 71,
      "outputs": [
        {
          "output_type": "display_data",
          "data": {
            "image/png": "[encoded data removed]",
            "text/plain": [
              "<Figure size 1080x432 with 1 Axes>"
            ]
          },
          "metadata": {
            "tags": [],
            "needs_background": "light"
          }
        }
      ]
    },
    {
      "cell_type": "code",
      "metadata": {
        "id": "CRbcu3x3YrUs",
        "colab": {
          "base_uri": "https://localhost:8080/",
          "height": 415
        },
        "outputId": "e66f640c-fc13-480d-da56-85e95ee5341c"
      },
      "source": [
        "# calculate top 10 users interm of play counts\n",
        "top10UsersByPlayCount = subset.groupBy(\"userid\").sum(\"plays\").orderBy('sum(plays)', ascending=0).take(10)\n",
        "top10UsersByPlayCount = pd.DataFrame(top10UsersByPlayCount)\n",
        "top10UsersByPlayCount[0] = top10UsersByPlayCount[0].astype(str)\n",
        "topusers = top10UsersByPlayCount[0].astype(str)\n",
        "top10UsersByPlayCount[0] = pd.DataFrame(topusers)\n",
        "top10UsersByPlayCount.set_index(topusers.sort_values(ascending=True), inplace=True)\n",
        "top10UsersByPlayCount.drop(columns=0)\n",
        "\n",
        "top10UsersByPlayCount.plot(kind='barh', figsize=(15,6))\n",
        "plt.xlabel('Play Count', fontsize=18)\n",
        "plt.ylabel('User', fontsize=18)\n",
        "plt.title('Top-10 Users per play counts', fontsize=18);"
      ],
      "execution_count": 72,
      "outputs": [
        {
          "output_type": "display_data",
          "data": {
            "image/png": "[encoded data removed]",
            "text/plain": [
              "<Figure size 1080x432 with 1 Axes>"
            ]
          },
          "metadata": {
            "tags": [],
            "needs_background": "light"
          }
        }
      ]
    },
    {
      "cell_type": "code",
      "metadata": {
        "id": "S_RGw8HGYrUu",
        "colab": {
          "base_uri": "https://localhost:8080/",
          "height": 415
        },
        "outputId": "337cf5c2-b068-49d4-bb83-8cf6ad016bd9"
      },
      "source": [
        "# calculate top 10 users interm of curiosity\n",
        "top10UsersByCuriosity = (subset.dropDuplicates(['userid', 'name'])\n",
        "                          .groupBy(str(\"userid\"))\n",
        "                          .count()\n",
        "                          .orderBy(\"count\", ascending=0)\n",
        "                          .take(10))\n",
        "\n",
        "top10UsersByCuriosity = pd.DataFrame(top10UsersByCuriosity)\n",
        "\n",
        "top10UsersByCuriosity[0] = top10UsersByCuriosity[0].astype(str)\n",
        "topusers = top10UsersByCuriosity[0].astype(str)\n",
        "top10UsersByCuriosity[0] = pd.DataFrame(topusers)\n",
        "top10UsersByCuriosity.set_index(topusers.sort_values(ascending=True), inplace=True)\n",
        "top10UsersByCuriosity.drop(columns=0)\n",
        "\n",
        "top10UsersByCuriosity.plot(kind='barh', figsize=(15,6))\n",
        "plt.xlabel('Count', fontsize=18)\n",
        "plt.ylabel('User', fontsize=18)\n",
        "plt.title('Top-10 Users per curiosity', fontsize=18);"
      ],
      "execution_count": 73,
      "outputs": [
        {
          "output_type": "display_data",
          "data": {
            "image/png": "[encoded data removed]",
            "text/plain": [
              "<Figure size 1080x432 with 1 Axes>"
            ]
          },
          "metadata": {
            "tags": [],
            "needs_background": "light"
          }
        }
      ]
    },
    {
      "cell_type": "markdown",
      "metadata": {
        "id": "CLwLaO6JYrVp"
      },
      "source": [
        "### Empirical Cumulative Distribution Function (ECDF) of the number of play counts per user"
      ]
    },
    {
      "cell_type": "code",
      "metadata": {
        "id": "hRACTm0EYrVp"
      },
      "source": [
        "def showECDF(DF, tag):\n",
        "    df = DF.to_frame().sort_values(by=['playCount']).reset_index() \n",
        "    percentiles = [0.1,0.2,0.3,0.4,0.5,0.6,0.7,0.8,0.9,1.0]\n",
        "\n",
        "    print(df.quantile(percentiles)) #show the quantiles\n",
        "\n",
        "    # Set up the plotting value - X-axis and Y-axis\n",
        "    XX = df['playCount']\n",
        "    YY = np.arange(len(XX))/float(len(XX))\n",
        "\n",
        "    #set up the value of each quantiles \n",
        "    per = [10, 25, 50, 75, 90]\n",
        "    colors = ['royalblue','mediumblue','darkblue','navy','black']\n",
        "    rank = [int(x / 100 * (len(YY) + 1)) for x in per]\n",
        "    rplot = [YY[x] for x in rank]\n",
        "    pervalues_users = [XX[x] for x in rank]\n",
        "\n",
        "    plt.figure(figsize=(12, 6))\n",
        "\n",
        "    # The ECDF plot\n",
        "    ax = plt.subplot()\n",
        "    ax.set_xscale(\"log\")\n",
        "    plt.plot(XX, YY)\n",
        "\n",
        "    # plot the percentiles \n",
        "    plt.scatter(pervalues_users,\n",
        "            rplot, \n",
        "            c = colors,\n",
        "            marker = 'o')\n",
        "    ax.vlines(pervalues_users, [0], rplot, color=colors, linestyle='--')\n",
        "    ax.hlines(rplot, [0], pervalues_users, color=colors, linestyle='--')\n",
        "    for i in range(len(rplot)):\n",
        "        ax.annotate(\"  \" + str(pervalues_users[i]), (pervalues_users[i], rplot[i]))\n",
        "    \n",
        "    plt.xlabel('Play Counts in log')\n",
        "    plt.ylabel('Empirical Cumulative Distribution Function')\n",
        "    plt.grid(True,which=\"both\",ls=\"-\")\n",
        "    plt.title('Empirical Cumulative Distribution Function of number of play counts per User ID')\n",
        "    plt.show()\n",
        "    \n",
        "    for p in percentiles:\n",
        "        i = np.where(YY<=p)[0][-1]\n",
        "        print(str(p*100), \"percent of the \" + tag + \" has less than: \", XX[i], \" play counts\")\n",
        "    \n",
        "    return df"
      ],
      "execution_count": 157,
      "outputs": []
    },
    {
      "cell_type": "code",
      "metadata": {
        "id": "WSYrldCxYrVq",
        "colab": {
          "base_uri": "https://localhost:8080/",
          "height": 781
        },
        "outputId": "4de4d2fe-dbf9-4c1d-b98d-a04e27a31efa"
      },
      "source": [
        "df = showECDF(userActivity, 'users')"
      ],
      "execution_count": 158,
      "outputs": [
        {
          "output_type": "stream",
          "text": [
            "        userID  playCount\n",
            "0.1  1054516.0       34.0\n",
            "0.2  2020723.0      132.0\n",
            "0.3  2071735.0      293.0\n",
            "0.4  2137074.0      535.0\n",
            "0.5  2206106.0      892.0\n",
            "0.6  2271597.0     1415.0\n",
            "0.7  2321177.0     2226.0\n",
            "0.8  2370413.0     3584.0\n",
            "0.9  2413179.0     6484.0\n",
            "1.0  2443548.0   674412.0\n"
          ],
          "name": "stdout"
        },
        {
          "output_type": "display_data",
          "data": {
            "image/png": "[encoded data removed]",
            "text/plain": [
              "<Figure size 864x432 with 1 Axes>"
            ]
          },
          "metadata": {
            "tags": [],
            "needs_background": "light"
          }
        },
        {
          "output_type": "stream",
          "text": [
            "10.0 percent of the users has less than:  34  play counts\n",
            "20.0 percent of the users has less than:  132  play counts\n",
            "30.0 percent of the users has less than:  293  play counts\n",
            "40.0 percent of the users has less than:  535  play counts\n",
            "50.0 percent of the users has less than:  892  play counts\n",
            "60.0 percent of the users has less than:  1415  play counts\n",
            "70.0 percent of the users has less than:  2226  play counts\n",
            "80.0 percent of the users has less than:  3584  play counts\n",
            "90.0 percent of the users has less than:  6484  play counts\n",
            "100.0 percent of the users has less than:  674412  play counts\n"
          ],
          "name": "stdout"
        }
      ]
    },
    {
      "cell_type": "code",
      "metadata": {
        "id": "YT2fTIZ1YrVr",
        "colab": {
          "base_uri": "https://localhost:8080/",
          "height": 781
        },
        "outputId": "f28bf83b-87ba-4577-e0e0-48fc899f1274"
      },
      "source": [
        "df = showECDF(artistPopularity, 'artists')"
      ],
      "execution_count": 159,
      "outputs": [
        {
          "output_type": "stream",
          "text": [
            "       artistID  playCount\n",
            "0.1   1271524.7        1.0\n",
            "0.2   2115843.4        1.0\n",
            "0.3   6718025.1        1.0\n",
            "0.4   6905141.8        2.0\n",
            "0.5   9948696.5        3.0\n",
            "0.6  10121984.2        5.0\n",
            "0.7  10293356.9        8.0\n",
            "0.8  10458623.6       15.0\n",
            "0.9  10625203.3       45.0\n",
            "1.0  10794401.0  2502130.0\n"
          ],
          "name": "stdout"
        },
        {
          "output_type": "display_data",
          "data": {
            "image/png": "[encoded data removed]",
            "text/plain": [
              "<Figure size 864x432 with 1 Axes>"
            ]
          },
          "metadata": {
            "tags": [],
            "needs_background": "light"
          }
        },
        {
          "output_type": "stream",
          "text": [
            "10.0 percent of the artists has less than:  1  play counts\n",
            "20.0 percent of the artists has less than:  1  play counts\n",
            "30.0 percent of the artists has less than:  1  play counts\n",
            "40.0 percent of the artists has less than:  2  play counts\n",
            "50.0 percent of the artists has less than:  3  play counts\n",
            "60.0 percent of the artists has less than:  5  play counts\n",
            "70.0 percent of the artists has less than:  8  play counts\n",
            "80.0 percent of the artists has less than:  15  play counts\n",
            "90.0 percent of the artists has less than:  45  play counts\n",
            "100.0 percent of the artists has less than:  2502130  play counts\n"
          ],
          "name": "stdout"
        }
      ]
    },
    {
      "cell_type": "markdown",
      "metadata": {
        "id": "lRAUMv0fUAjv"
      },
      "source": [
        "### Modeling of a Recommender System"
      ]
    },
    {
      "cell_type": "code",
      "metadata": {
        "id": "pBHsZ0OeYrTF"
      },
      "source": [
        "train, test = subset.randomSplit([0.8, 0.2], seed=42)"
      ],
      "execution_count": 45,
      "outputs": []
    },
    {
      "cell_type": "code",
      "metadata": {
        "id": "NcjE619MYrT7",
        "colab": {
          "base_uri": "https://localhost:8080/"
        },
        "outputId": "0e254bf7-d707-42d6-f377-8a87438371dc"
      },
      "source": [
        "%%time\n",
        "als = ALS(maxIter=5, regParam=0.01, userCol='userid', itemCol='artistid', ratingCol='log_plays')"
      ],
      "execution_count": 47,
      "outputs": [
        {
          "output_type": "stream",
          "text": [
            "CPU times: user 2.04 ms, sys: 199 µs, total: 2.24 ms\n",
            "Wall time: 60.7 ms\n"
          ],
          "name": "stdout"
        }
      ]
    },
    {
      "cell_type": "code",
      "metadata": {
        "id": "t0AA-iRrYrT9",
        "colab": {
          "base_uri": "https://localhost:8080/"
        },
        "outputId": "74a5e342-2631-4b2d-82e9-9f9ed986089b"
      },
      "source": [
        "%%time\n",
        "model = als.fit(train)"
      ],
      "execution_count": 48,
      "outputs": [
        {
          "output_type": "stream",
          "text": [
            "CPU times: user 20.7 ms, sys: 4.55 ms, total: 25.2 ms\n",
            "Wall time: 1min 1s\n"
          ],
          "name": "stdout"
        }
      ]
    },
    {
      "cell_type": "code",
      "metadata": {
        "id": "L4KIjLVQYrUA",
        "colab": {
          "base_uri": "https://localhost:8080/"
        },
        "outputId": "763e35b4-cb64-44c8-cba5-652f9d93b1f8"
      },
      "source": [
        "%%time\n",
        "predictions = model.transform(test)"
      ],
      "execution_count": 49,
      "outputs": [
        {
          "output_type": "stream",
          "text": [
            "CPU times: user 4.48 ms, sys: 0 ns, total: 4.48 ms\n",
            "Wall time: 42.4 ms\n"
          ],
          "name": "stdout"
        }
      ]
    },
    {
      "cell_type": "code",
      "metadata": {
        "id": "lKBQI1M0YrUC",
        "colab": {
          "base_uri": "https://localhost:8080/"
        },
        "outputId": "2f9334c0-4d53-43ab-9979-21bf4aed5e23"
      },
      "source": [
        "%%time\n",
        "predictions.count()"
      ],
      "execution_count": 50,
      "outputs": [
        {
          "output_type": "stream",
          "text": [
            "CPU times: user 6.66 ms, sys: 1.12 ms, total: 7.78 ms\n",
            "Wall time: 33.5 s\n"
          ],
          "name": "stdout"
        },
        {
          "output_type": "execute_result",
          "data": {
            "text/plain": [
              "1862407"
            ]
          },
          "metadata": {
            "tags": []
          },
          "execution_count": 50
        }
      ]
    },
    {
      "cell_type": "markdown",
      "metadata": {
        "id": "C5v2OX95YrUH"
      },
      "source": [
        "After a log transformation, it can be expected undefined values in the variable to explain. So we drop those missing values."
      ]
    },
    {
      "cell_type": "code",
      "metadata": {
        "id": "8vNQcjzpYrUH"
      },
      "source": [
        "predictions = predictions.dropna(subset=('prediction'))"
      ],
      "execution_count": 51,
      "outputs": []
    },
    {
      "cell_type": "code",
      "metadata": {
        "id": "lu7AX7vxYrUJ",
        "colab": {
          "base_uri": "https://localhost:8080/"
        },
        "outputId": "6f983cab-ab21-41c6-abbd-2dc36b2a6b4c"
      },
      "source": [
        "%%time\r\n",
        "predictions.count()"
      ],
      "execution_count": 52,
      "outputs": [
        {
          "output_type": "stream",
          "text": [
            "CPU times: user 6.18 ms, sys: 822 µs, total: 7 ms\n",
            "Wall time: 32.6 s\n"
          ],
          "name": "stdout"
        },
        {
          "output_type": "execute_result",
          "data": {
            "text/plain": [
              "1784742"
            ]
          },
          "metadata": {
            "tags": []
          },
          "execution_count": 52
        }
      ]
    },
    {
      "cell_type": "code",
      "metadata": {
        "id": "dY0yAWHwYrUK",
        "colab": {
          "base_uri": "https://localhost:8080/"
        },
        "outputId": "89b6c583-9467-4b2b-87e3-c20ef282fb9c"
      },
      "source": [
        "predictions.show()"
      ],
      "execution_count": 53,
      "outputs": [
        {
          "output_type": "stream",
          "text": [
            "+--------+-------+-----+--------------------+------------------+----------+\n",
            "|artistid| userid|plays|                name|         log_plays|prediction|\n",
            "+--------+-------+-----+--------------------+------------------+----------+\n",
            "|      22|1051976|   11| Nocturnal Emissions|2.4849066497880004| 4.8125906|\n",
            "|      22|1062894|   37| Nocturnal Emissions|3.6375861597263857|  5.211503|\n",
            "|      22|1031888|   64| Nocturnal Emissions| 4.174387269895637| 5.1426992|\n",
            "|      22|2059316|   75| Nocturnal Emissions| 4.330733340286331|  4.397157|\n",
            "|      22|2233968|    7| Nocturnal Emissions|2.0794415416798357| 3.0022397|\n",
            "|      23|2213999|   18|Utah Philips & An...|2.9444389791664403| 2.0239415|\n",
            "|      23|2009983|   16|Utah Philips & An...| 2.833213344056216| 1.7795602|\n",
            "|      23|2380458|   27|Utah Philips & An...| 3.332204510175204| 2.8886008|\n",
            "|      23|2418208|    5|Utah Philips & An...| 1.791759469228055| 2.0471003|\n",
            "|      23|2112919|    7|Utah Philips & An...|2.0794415416798357| 1.5128312|\n",
            "|      24|1000145|    5|            Zap Mama| 1.791759469228055| 2.1270893|\n",
            "|      24|1008690|    7|            Zap Mama|2.0794415416798357| 3.2462103|\n",
            "|      24|1071243|   32|            Zap Mama|3.4965075614664802| 3.5808969|\n",
            "|      24|2025687|    7|            Zap Mama|2.0794415416798357| 2.4035716|\n",
            "|      24|2033921|    6|            Zap Mama|1.9459101490553132| 2.7207992|\n",
            "|      24|2038658|   13|            Zap Mama| 2.639057329615259| 2.6736362|\n",
            "|      24|2070889|   69|            Zap Mama| 4.248495242049359| 3.4906275|\n",
            "|      24|2159788|   67|            Zap Mama| 4.219507705176107| 2.9460816|\n",
            "|      24|2167000|    7|            Zap Mama|2.0794415416798357| 3.4751966|\n",
            "|      24|2239284|   28|            Zap Mama| 3.367295829986474| 1.9198525|\n",
            "+--------+-------+-----+--------------------+------------------+----------+\n",
            "only showing top 20 rows\n",
            "\n"
          ],
          "name": "stdout"
        }
      ]
    },
    {
      "cell_type": "code",
      "metadata": {
        "id": "lZEwVpwVYrUM"
      },
      "source": [
        "evaluator_rmse = RegressionEvaluator(metricName='rmse', labelCol='log_plays', predictionCol='prediction')\n",
        "rmse = evaluator_rmse.evaluate(predictions.na.drop()) "
      ],
      "execution_count": 54,
      "outputs": []
    },
    {
      "cell_type": "code",
      "metadata": {
        "id": "iQyFMR_lYrUW",
        "colab": {
          "base_uri": "https://localhost:8080/"
        },
        "outputId": "e5c38377-d9b2-43d8-8484-0c3113a90df0"
      },
      "source": [
        "%%time\n",
        "als_cv = ALS(userCol='userid', itemCol='artistid', ratingCol='log_plays')\n",
        "crossval = CrossValidator(estimator=als_cv, estimatorParamMaps=paramGrid, evaluator=evaluator_rmse, numFolds=3)"
      ],
      "execution_count": 59,
      "outputs": [
        {
          "output_type": "stream",
          "text": [
            "CPU times: user 2.82 ms, sys: 0 ns, total: 2.82 ms\n",
            "Wall time: 16.9 ms\n"
          ],
          "name": "stdout"
        }
      ]
    },
    {
      "cell_type": "code",
      "metadata": {
        "id": "efrO3AHNYrUN"
      },
      "source": [
        "evaluator_r2 = RegressionEvaluator(metricName='r2', labelCol='log_plays', predictionCol='prediction')\n",
        "r2 = evaluator_r2.evaluate(predictions.na.drop())"
      ],
      "execution_count": 55,
      "outputs": []
    },
    {
      "cell_type": "code",
      "metadata": {
        "id": "TB23PUJ0YrUP",
        "colab": {
          "base_uri": "https://localhost:8080/"
        },
        "outputId": "1009e56b-0574-41a0-fd3e-c765c646a20e"
      },
      "source": [
        "print('RMSE (Log)')\n",
        "print(rmse)\n",
        "print()\n",
        "print('RMSE')\n",
        "print(np.expm1(rmse))\n",
        "print()\n",
        "print('R Squared')\n",
        "print(r2)\n",
        "print()"
      ],
      "execution_count": 56,
      "outputs": [
        {
          "output_type": "stream",
          "text": [
            "RMSE (Log)\n",
            "0.9627434345880047\n",
            "\n",
            "RMSE\n",
            "1.6188713292353873\n",
            "\n",
            "R Squared\n",
            "0.026777162841328916\n",
            "\n"
          ],
          "name": "stdout"
        }
      ]
    },
    {
      "cell_type": "code",
      "metadata": {
        "id": "KSbjgUaOYrUT"
      },
      "source": [
        "paramGrid = ParamGridBuilder().addGrid(als.rank, [1, 5, 10, 20]).addGrid(als.maxIter, [20]).addGrid(als.regParam, [0.001, 0.005, 0.01, 0.1]).build()"
      ],
      "execution_count": 58,
      "outputs": []
    },
    {
      "cell_type": "code",
      "metadata": {
        "id": "CoK-9hMnYrUa",
        "colab": {
          "base_uri": "https://localhost:8080/"
        },
        "outputId": "6ee5f7c2-ff19-4ec3-be97-5c39515aa9b3"
      },
      "source": [
        "%%time\n",
        "cvModel = crossval.fit(train)"
      ],
      "execution_count": 131,
      "outputs": [
        {
          "output_type": "stream",
          "text": [
            "CPU times: user 4.54 s, sys: 926 ms, total: 5.47 s\n",
            "Wall time: 34min 40s\n"
          ],
          "name": "stdout"
        }
      ]
    },
    {
      "cell_type": "code",
      "metadata": {
        "id": "Nxw0g6bVMqXd"
      },
      "source": [
        "bestModel = cvModel.bestModel"
      ],
      "execution_count": 132,
      "outputs": []
    },
    {
      "cell_type": "code",
      "metadata": {
        "id": "z3FfLMBEYrUd"
      },
      "source": [
        "%%time\n",
        "predictions_cv = cvModel.transform(test)"
      ],
      "execution_count": null,
      "outputs": []
    },
    {
      "cell_type": "code",
      "metadata": {
        "id": "YQjaWK2ZYrUe"
      },
      "source": [
        "rmse_cv = evaluator_rmse.evaluate(predictions_cv.na.drop())\n",
        "r2_cv = evaluator_r2.evaluate(predictions_cv.na.drop())"
      ],
      "execution_count": 62,
      "outputs": []
    },
    {
      "cell_type": "code",
      "metadata": {
        "id": "UXDH0xlSYrUg",
        "colab": {
          "base_uri": "https://localhost:8080/"
        },
        "outputId": "11a60de6-d1b9-4cc3-ee32-9f183250bd10"
      },
      "source": [
        "predictions_cv.show()"
      ],
      "execution_count": 63,
      "outputs": [
        {
          "output_type": "stream",
          "text": [
            "+--------+-------+-----+--------------------+------------------+----------+\n",
            "|artistid| userid|plays|                name|         log_plays|prediction|\n",
            "+--------+-------+-----+--------------------+------------------+----------+\n",
            "|      22|1051976|   11| Nocturnal Emissions|2.4849066497880004| 2.7286077|\n",
            "|      22|1062894|   37| Nocturnal Emissions|3.6375861597263857|  3.509797|\n",
            "|      22|1031888|   64| Nocturnal Emissions| 4.174387269895637|  4.095628|\n",
            "|      22|2059316|   75| Nocturnal Emissions| 4.330733340286331|  3.255273|\n",
            "|      22|2233968|    7| Nocturnal Emissions|2.0794415416798357| 2.0271654|\n",
            "|      23|2213999|   18|Utah Philips & An...|2.9444389791664403| 2.3605373|\n",
            "|      23|2009983|   16|Utah Philips & An...| 2.833213344056216| 2.3376267|\n",
            "|      23|2380458|   27|Utah Philips & An...| 3.332204510175204|  2.242085|\n",
            "|      23|2418208|    5|Utah Philips & An...| 1.791759469228055| 1.7211041|\n",
            "|      23|2112919|    7|Utah Philips & An...|2.0794415416798357| 1.9957595|\n",
            "|      24|1000145|    5|            Zap Mama| 1.791759469228055|   2.51409|\n",
            "|      24|1008690|    7|            Zap Mama|2.0794415416798357| 2.4734154|\n",
            "|      24|1071243|   32|            Zap Mama|3.4965075614664802| 3.0945241|\n",
            "|      24|2025687|    7|            Zap Mama|2.0794415416798357|  2.342051|\n",
            "|      24|2033921|    6|            Zap Mama|1.9459101490553132| 2.8426507|\n",
            "|      24|2038658|   13|            Zap Mama| 2.639057329615259|  3.241568|\n",
            "|      24|2070889|   69|            Zap Mama| 4.248495242049359| 2.6837482|\n",
            "|      24|2159788|   67|            Zap Mama| 4.219507705176107| 2.8410566|\n",
            "|      24|2167000|    7|            Zap Mama|2.0794415416798357| 3.1204166|\n",
            "|      24|2239284|   28|            Zap Mama| 3.367295829986474| 2.6212308|\n",
            "+--------+-------+-----+--------------------+------------------+----------+\n",
            "only showing top 20 rows\n",
            "\n"
          ],
          "name": "stdout"
        }
      ]
    },
    {
      "cell_type": "code",
      "metadata": {
        "id": "Ge8cVjjcYrUj",
        "colab": {
          "base_uri": "https://localhost:8080/"
        },
        "outputId": "65296f14-6ec0-4060-84f2-495bdfcf5280"
      },
      "source": [
        "print('RMSE (Log)')\n",
        "print(rmse_cv)\n",
        "print()\n",
        "print('RMSE')\n",
        "print(np.expm1(rmse_cv))\n",
        "print()\n",
        "print('R Squared')\n",
        "print(r2_cv)"
      ],
      "execution_count": 64,
      "outputs": [
        {
          "output_type": "stream",
          "text": [
            "RMSE (Log)\n",
            "0.864118560572359\n",
            "\n",
            "RMSE\n",
            "1.3729135843142566\n",
            "\n",
            "R Squared\n",
            "0.21596070931811773\n"
          ],
          "name": "stdout"
        }
      ]
    },
    {
      "cell_type": "markdown",
      "metadata": {
        "id": "0XOskm-CGY4b"
      },
      "source": [
        "We see the cross-validation helps having lower noise (RMSE decreases) and better predictions (R Squared multiplied by 10)."
      ]
    },
    {
      "cell_type": "code",
      "metadata": {
        "id": "lNxggdtVYrUk",
        "colab": {
          "base_uri": "https://localhost:8080/"
        },
        "outputId": "2ae2bc02-d4aa-4690-911d-5188ea29415b"
      },
      "source": [
        "%%time\n",
        "# Generate top 10 movie recommendations for each user\n",
        "userRecs = bestModel.recommendForAllUsers(10)\n",
        "# Generate top 10 user recommendations for each artist\n",
        "artistRecs = bestModel.recommendForAllItems(10)"
      ],
      "execution_count": 116,
      "outputs": [
        {
          "output_type": "stream",
          "text": [
            "CPU times: user 2.23 ms, sys: 0 ns, total: 2.23 ms\n",
            "Wall time: 175 ms\n"
          ],
          "name": "stdout"
        }
      ]
    },
    {
      "cell_type": "code",
      "metadata": {
        "id": "eeJpI_JAYrUm",
        "colab": {
          "base_uri": "https://localhost:8080/"
        },
        "outputId": "d7c2ce27-f304-41a0-b015-987c27acf5fc"
      },
      "source": [
        "%%time\n",
        "uRP = userRecs.toPandas()\n",
        "uRP.head()"
      ],
      "execution_count": 117,
      "outputs": [
        {
          "output_type": "stream",
          "text": [
            "CPU times: user 10 s, sys: 1.4 s, total: 11.4 s\n",
            "Wall time: 30min 57s\n"
          ],
          "name": "stdout"
        }
      ]
    },
    {
      "cell_type": "code",
      "metadata": {
        "colab": {
          "base_uri": "https://localhost:8080/",
          "height": 197
        },
        "id": "jyiizC7zaMhL",
        "outputId": "c28ef918-458d-4488-8cb7-2cb6d9c9372c"
      },
      "source": [
        "uRP.head()"
      ],
      "execution_count": 118,
      "outputs": [
        {
          "output_type": "execute_result",
          "data": {
            "text/html": [
              "<div>\n",
              "<style scoped>\n",
              "    .dataframe tbody tr th:only-of-type {\n",
              "        vertical-align: middle;\n",
              "    }\n",
              "\n",
              "    .dataframe tbody tr th {\n",
              "        vertical-align: top;\n",
              "    }\n",
              "\n",
              "    .dataframe thead th {\n",
              "        text-align: right;\n",
              "    }\n",
              "</style>\n",
              "<table border=\"1\" class=\"dataframe\">\n",
              "  <thead>\n",
              "    <tr style=\"text-align: right;\">\n",
              "      <th></th>\n",
              "      <th>userid</th>\n",
              "      <th>recommendations</th>\n",
              "    </tr>\n",
              "  </thead>\n",
              "  <tbody>\n",
              "    <tr>\n",
              "      <th>0</th>\n",
              "      <td>90</td>\n",
              "      <td>[(10062241, 7.713888645172119), (10108677, 7.4...</td>\n",
              "    </tr>\n",
              "    <tr>\n",
              "      <th>1</th>\n",
              "      <td>128</td>\n",
              "      <td>[(10125325, 5.5528059005737305), (6973282, 5.5...</td>\n",
              "    </tr>\n",
              "    <tr>\n",
              "      <th>2</th>\n",
              "      <td>384</td>\n",
              "      <td>[(10108677, 7.943511486053467), (10198687, 7.6...</td>\n",
              "    </tr>\n",
              "    <tr>\n",
              "      <th>3</th>\n",
              "      <td>536</td>\n",
              "      <td>[(6973282, 7.298683166503906), (10062241, 6.88...</td>\n",
              "    </tr>\n",
              "    <tr>\n",
              "      <th>4</th>\n",
              "      <td>581</td>\n",
              "      <td>[(10062241, 7.638814449310303), (10108677, 7.0...</td>\n",
              "    </tr>\n",
              "  </tbody>\n",
              "</table>\n",
              "</div>"
            ],
            "text/plain": [
              "   userid                                    recommendations\n",
              "0      90  [(10062241, 7.713888645172119), (10108677, 7.4...\n",
              "1     128  [(10125325, 5.5528059005737305), (6973282, 5.5...\n",
              "2     384  [(10108677, 7.943511486053467), (10198687, 7.6...\n",
              "3     536  [(6973282, 7.298683166503906), (10062241, 6.88...\n",
              "4     581  [(10062241, 7.638814449310303), (10108677, 7.0..."
            ]
          },
          "metadata": {
            "tags": []
          },
          "execution_count": 118
        }
      ]
    },
    {
      "cell_type": "code",
      "metadata": {
        "id": "6O5F7Eyctvqo"
      },
      "source": [
        "uRP.to_csv(local_path + \"uRP.csv\", index=False)"
      ],
      "execution_count": 119,
      "outputs": []
    },
    {
      "cell_type": "code",
      "metadata": {
        "id": "Jmm_tFFCYrUo",
        "colab": {
          "base_uri": "https://localhost:8080/"
        },
        "outputId": "df8222fd-69f1-4fdf-97e2-28bcc403daa1"
      },
      "source": [
        "%%time\n",
        "aRP = artistRecs.toPandas()\n",
        "aRP.head()"
      ],
      "execution_count": 68,
      "outputs": [
        {
          "output_type": "stream",
          "text": [
            "CPU times: user 25.2 s, sys: 2.23 s, total: 27.4 s\n",
            "Wall time: 32min 2s\n"
          ],
          "name": "stdout"
        }
      ]
    },
    {
      "cell_type": "code",
      "metadata": {
        "colab": {
          "base_uri": "https://localhost:8080/",
          "height": 406
        },
        "id": "4OGtJQXZtynv",
        "outputId": "3c297f90-9778-478f-c2e0-3c69bb42ff42"
      },
      "source": [
        "aRP"
      ],
      "execution_count": 69,
      "outputs": [
        {
          "output_type": "execute_result",
          "data": {
            "text/html": [
              "<div>\n",
              "<style scoped>\n",
              "    .dataframe tbody tr th:only-of-type {\n",
              "        vertical-align: middle;\n",
              "    }\n",
              "\n",
              "    .dataframe tbody tr th {\n",
              "        vertical-align: top;\n",
              "    }\n",
              "\n",
              "    .dataframe thead th {\n",
              "        text-align: right;\n",
              "    }\n",
              "</style>\n",
              "<table border=\"1\" class=\"dataframe\">\n",
              "  <thead>\n",
              "    <tr style=\"text-align: right;\">\n",
              "      <th></th>\n",
              "      <th>artistid</th>\n",
              "      <th>recommendations</th>\n",
              "    </tr>\n",
              "  </thead>\n",
              "  <tbody>\n",
              "    <tr>\n",
              "      <th>0</th>\n",
              "      <td>22</td>\n",
              "      <td>[(2398356, 23.031309127807617), (2191339, 22.8...</td>\n",
              "    </tr>\n",
              "    <tr>\n",
              "      <th>1</th>\n",
              "      <td>23</td>\n",
              "      <td>[(2023977, 8.984450340270996), (2332209, 8.662...</td>\n",
              "    </tr>\n",
              "    <tr>\n",
              "      <th>2</th>\n",
              "      <td>24</td>\n",
              "      <td>[(2007444, 9.178375244140625), (2183783, 8.644...</td>\n",
              "    </tr>\n",
              "    <tr>\n",
              "      <th>3</th>\n",
              "      <td>32</td>\n",
              "      <td>[(2410999, 8.6751708984375), (2160782, 8.49465...</td>\n",
              "    </tr>\n",
              "    <tr>\n",
              "      <th>4</th>\n",
              "      <td>35</td>\n",
              "      <td>[(1005184, 17.713172912597656), (2267377, 15.3...</td>\n",
              "    </tr>\n",
              "    <tr>\n",
              "      <th>...</th>\n",
              "      <td>...</td>\n",
              "      <td>...</td>\n",
              "    </tr>\n",
              "    <tr>\n",
              "      <th>473269</th>\n",
              "      <td>10792305</td>\n",
              "      <td>[(1009561, 4.29862642288208), (2289228, 4.0810...</td>\n",
              "    </tr>\n",
              "    <tr>\n",
              "      <th>473270</th>\n",
              "      <td>10792489</td>\n",
              "      <td>[(2269088, 3.4988644123077393), (1009561, 3.42...</td>\n",
              "    </tr>\n",
              "    <tr>\n",
              "      <th>473271</th>\n",
              "      <td>10792935</td>\n",
              "      <td>[(2289228, 4.142323017120361), (2395813, 4.140...</td>\n",
              "    </tr>\n",
              "    <tr>\n",
              "      <th>473272</th>\n",
              "      <td>10793735</td>\n",
              "      <td>[(1009561, 4.136872291564941), (2395813, 4.135...</td>\n",
              "    </tr>\n",
              "    <tr>\n",
              "      <th>473273</th>\n",
              "      <td>10794110</td>\n",
              "      <td>[(2176692, 4.267216682434082), (1009561, 4.140...</td>\n",
              "    </tr>\n",
              "  </tbody>\n",
              "</table>\n",
              "<p>473274 rows × 2 columns</p>\n",
              "</div>"
            ],
            "text/plain": [
              "        artistid                                    recommendations\n",
              "0             22  [(2398356, 23.031309127807617), (2191339, 22.8...\n",
              "1             23  [(2023977, 8.984450340270996), (2332209, 8.662...\n",
              "2             24  [(2007444, 9.178375244140625), (2183783, 8.644...\n",
              "3             32  [(2410999, 8.6751708984375), (2160782, 8.49465...\n",
              "4             35  [(1005184, 17.713172912597656), (2267377, 15.3...\n",
              "...          ...                                                ...\n",
              "473269  10792305  [(1009561, 4.29862642288208), (2289228, 4.0810...\n",
              "473270  10792489  [(2269088, 3.4988644123077393), (1009561, 3.42...\n",
              "473271  10792935  [(2289228, 4.142323017120361), (2395813, 4.140...\n",
              "473272  10793735  [(1009561, 4.136872291564941), (2395813, 4.135...\n",
              "473273  10794110  [(2176692, 4.267216682434082), (1009561, 4.140...\n",
              "\n",
              "[473274 rows x 2 columns]"
            ]
          },
          "metadata": {
            "tags": []
          },
          "execution_count": 69
        }
      ]
    },
    {
      "cell_type": "code",
      "metadata": {
        "id": "jcHGELWDadZH"
      },
      "source": [
        "aRP.to_csv(local_path + \"aRP.csv\", index=False)"
      ],
      "execution_count": 107,
      "outputs": []
    },
    {
      "cell_type": "markdown",
      "metadata": {
        "id": "sL7jPQm1UTYu"
      },
      "source": [
        "### Predictions"
      ]
    },
    {
      "cell_type": "code",
      "metadata": {
        "id": "2RnPWNuEYrU8"
      },
      "source": [
        "predictions_cv = predictions_cv.withColumn('scaled_prediction',  predictions_cv[\"prediction\"] )"
      ],
      "execution_count": 169,
      "outputs": []
    },
    {
      "cell_type": "code",
      "metadata": {
        "id": "qxkYSd5fYrU9"
      },
      "source": [
        "def user_predictions(user):\n",
        "    single_user = predictions_cv.filter(test[\"userid\"] == user).select(\n",
        "        [\"userid\", \"name\", \"scaled_prediction\"]\n",
        "    )\n",
        "    single_user.withColumn(\"artist\", (single_user[\"name\"])).drop(\n",
        "        single_user[\"name\"]\n",
        "    ).orderBy(\"scaled_prediction\", ascending=False).show(truncate=False)"
      ],
      "execution_count": 170,
      "outputs": []
    },
    {
      "cell_type": "code",
      "metadata": {
        "id": "Kz1MYapFYrU-",
        "colab": {
          "base_uri": "https://localhost:8080/"
        },
        "outputId": "4990cfab-3ef0-4ffb-aa41-0212f6ee4562"
      },
      "source": [
        "%%time\n",
        "single_user = predictions_cv.filter(test[\"userid\"] == 1026084).head()"
      ],
      "execution_count": 171,
      "outputs": [
        {
          "output_type": "stream",
          "text": [
            "CPU times: user 44.6 ms, sys: 6.97 ms, total: 51.5 ms\n",
            "Wall time: 27.8 s\n"
          ],
          "name": "stdout"
        }
      ]
    },
    {
      "cell_type": "code",
      "metadata": {
        "colab": {
          "base_uri": "https://localhost:8080/"
        },
        "id": "xE5nxlnnavJq",
        "outputId": "0c887ae7-a639-4aa7-b580-b283618ffa9b"
      },
      "source": [
        "single_user"
      ],
      "execution_count": 172,
      "outputs": [
        {
          "output_type": "execute_result",
          "data": {
            "text/plain": [
              "Row(artistid=53, userid=1026084, plays=11, name='Wu-Tang Clan', log_plays=2.4849066497880004, prediction=3.029461622238159, scaled_prediction=3.029461622238159)"
            ]
          },
          "metadata": {
            "tags": []
          },
          "execution_count": 172
        }
      ]
    },
    {
      "cell_type": "code",
      "metadata": {
        "id": "joAlbf0CYrVF",
        "colab": {
          "base_uri": "https://localhost:8080/"
        },
        "outputId": "c65a2689-101d-4fce-87bc-5e38f2203adf"
      },
      "source": [
        "%%time\r\n",
        "testP = test.select(\"log_plays\").show(5000)"
      ],
      "execution_count": 173,
      "outputs": [
        {
          "output_type": "stream",
          "text": [
            "+------------------+\n",
            "|         log_plays|\n",
            "+------------------+\n",
            "|2.4849066497880004|\n",
            "|   5.4510384535657|\n",
            "|3.1354942159291497|\n",
            "|3.8066624897703196|\n",
            "|6.3561076606958915|\n",
            "| 1.791759469228055|\n",
            "|1.9459101490553132|\n",
            "|2.3978952727983707|\n",
            "|2.3978952727983707|\n",
            "|2.0794415416798357|\n",
            "| 3.367295829986474|\n",
            "| 5.407171771460119|\n",
            "|3.7612001156935624|\n",
            "|2.5649493574615367|\n",
            "|3.5263605246161616|\n",
            "| 2.639057329615259|\n",
            "| 2.302585092994046|\n",
            "|3.6109179126442243|\n",
            "|3.4011973816621555|\n",
            "| 5.805134968916488|\n",
            "|5.3981627015177525|\n",
            "|3.6109179126442243|\n",
            "|5.8888779583328805|\n",
            "|2.5649493574615367|\n",
            "|3.7376696182833684|\n",
            "|1.9459101490553132|\n",
            "|2.1972245773362196|\n",
            "|  3.58351893845611|\n",
            "| 3.044522437723423|\n",
            "| 3.295836866004329|\n",
            "|2.9444389791664403|\n",
            "| 2.833213344056216|\n",
            "| 2.833213344056216|\n",
            "|3.1780538303479458|\n",
            "|2.5649493574615367|\n",
            "| 4.110873864173311|\n",
            "| 2.833213344056216|\n",
            "| 2.639057329615259|\n",
            "| 2.302585092994046|\n",
            "|2.0794415416798357|\n",
            "|3.2188758248682006|\n",
            "| 2.302585092994046|\n",
            "|2.8903717578961645|\n",
            "|2.1972245773362196|\n",
            "|2.3978952727983707|\n",
            "|1.9459101490553132|\n",
            "|3.6109179126442243|\n",
            "| 1.791759469228055|\n",
            "|2.1972245773362196|\n",
            "|1.9459101490553132|\n",
            "|3.9318256327243257|\n",
            "|2.1972245773362196|\n",
            "| 3.258096538021482|\n",
            "|3.1780538303479458|\n",
            "| 3.044522437723423|\n",
            "|1.9459101490553132|\n",
            "|2.9444389791664403|\n",
            "| 4.430816798843313|\n",
            "| 2.772588722239781|\n",
            "|2.1972245773362196|\n",
            "| 5.631211781821365|\n",
            "|2.0794415416798357|\n",
            "|3.5553480614894135|\n",
            "|4.1588830833596715|\n",
            "| 5.075173815233827|\n",
            "| 2.302585092994046|\n",
            "|1.9459101490553132|\n",
            "| 5.062595033026967|\n",
            "| 1.791759469228055|\n",
            "|2.0794415416798357|\n",
            "|5.3981627015177525|\n",
            "| 2.995732273553991|\n",
            "|2.1972245773362196|\n",
            "| 2.772588722239781|\n",
            "|  4.74493212836325|\n",
            "| 1.791759469228055|\n",
            "| 5.783825182329737|\n",
            "|2.4849066497880004|\n",
            "| 5.313205979041787|\n",
            "|3.1780538303479458|\n",
            "|1.9459101490553132|\n",
            "|2.1972245773362196|\n",
            "|3.4657359027997265|\n",
            "|1.9459101490553132|\n",
            "| 2.772588722239781|\n",
            "| 2.639057329615259|\n",
            "| 2.302585092994046|\n",
            "| 2.302585092994046|\n",
            "|2.5649493574615367|\n",
            "|3.4011973816621555|\n",
            "| 2.833213344056216|\n",
            "|2.9444389791664403|\n",
            "|2.3978952727983707|\n",
            "| 3.091042453358316|\n",
            "|  3.58351893845611|\n",
            "| 3.332204510175204|\n",
            "| 4.653960350157523|\n",
            "| 2.833213344056216|\n",
            "| 5.420534999272286|\n",
            "|2.0794415416798357|\n",
            "|2.3978952727983707|\n",
            "|2.1972245773362196|\n",
            "|2.3978952727983707|\n",
            "| 1.791759469228055|\n",
            "| 3.295836866004329|\n",
            "| 3.091042453358316|\n",
            "|2.0794415416798357|\n",
            "| 5.389071729816501|\n",
            "| 4.382026634673881|\n",
            "|3.4339872044851463|\n",
            "| 2.772588722239781|\n",
            "| 3.332204510175204|\n",
            "| 4.110873864173311|\n",
            "|3.4011973816621555|\n",
            "|2.4849066497880004|\n",
            "|3.1354942159291497|\n",
            "|  2.70805020110221|\n",
            "| 2.833213344056216|\n",
            "| 2.302585092994046|\n",
            "|2.5649493574615367|\n",
            "| 1.791759469228055|\n",
            "| 2.772588722239781|\n",
            "| 2.833213344056216|\n",
            "| 3.828641396489095|\n",
            "| 4.700480365792417|\n",
            "|2.9444389791664403|\n",
            "|2.5649493574615367|\n",
            "|2.5649493574615367|\n",
            "| 1.791759469228055|\n",
            "|4.6913478822291435|\n",
            "|2.4849066497880004|\n",
            "| 3.295836866004329|\n",
            "|3.1354942159291497|\n",
            "|  2.70805020110221|\n",
            "| 2.833213344056216|\n",
            "|2.9444389791664403|\n",
            "|2.9444389791664403|\n",
            "|  3.58351893845611|\n",
            "| 2.833213344056216|\n",
            "|3.1780538303479458|\n",
            "|4.1588830833596715|\n",
            "|3.5263605246161616|\n",
            "| 2.995732273553991|\n",
            "|1.9459101490553132|\n",
            "| 4.127134385045092|\n",
            "|2.0794415416798357|\n",
            "|  5.68697535633982|\n",
            "|2.5649493574615367|\n",
            "|3.7376696182833684|\n",
            "| 2.302585092994046|\n",
            "|2.9444389791664403|\n",
            "|3.7612001156935624|\n",
            "| 4.477336814478207|\n",
            "| 2.639057329615259|\n",
            "| 3.044522437723423|\n",
            "| 1.791759469228055|\n",
            "|2.0794415416798357|\n",
            "| 3.258096538021482|\n",
            "|  2.70805020110221|\n",
            "| 2.639057329615259|\n",
            "| 2.995732273553991|\n",
            "| 3.091042453358316|\n",
            "|2.3978952727983707|\n",
            "| 2.639057329615259|\n",
            "| 2.639057329615259|\n",
            "| 1.791759469228055|\n",
            "|  4.77912349311153|\n",
            "|2.3978952727983707|\n",
            "|  2.70805020110221|\n",
            "| 1.791759469228055|\n",
            "|  2.70805020110221|\n",
            "| 2.302585092994046|\n",
            "| 2.639057329615259|\n",
            "|2.5649493574615367|\n",
            "|2.5649493574615367|\n",
            "| 5.147494476813453|\n",
            "| 2.772588722239781|\n",
            "| 2.772588722239781|\n",
            "| 1.791759469228055|\n",
            "| 3.295836866004329|\n",
            "|2.3978952727983707|\n",
            "| 2.302585092994046|\n",
            "|6.3818160174060985|\n",
            "|1.9459101490553132|\n",
            "| 5.634789603169249|\n",
            "| 1.791759469228055|\n",
            "|  6.77078942390898|\n",
            "|2.1972245773362196|\n",
            "| 3.332204510175204|\n",
            "|2.4849066497880004|\n",
            "|  4.23410650459726|\n",
            "| 3.970291913552122|\n",
            "| 4.653960350157523|\n",
            "|2.0794415416798357|\n",
            "|  2.70805020110221|\n",
            "|3.4657359027997265|\n",
            "| 3.332204510175204|\n",
            "| 5.389071729816501|\n",
            "| 1.791759469228055|\n",
            "|  4.04305126783455|\n",
            "| 3.784189633918261|\n",
            "| 1.791759469228055|\n",
            "|  4.04305126783455|\n",
            "| 2.639057329615259|\n",
            "| 2.995732273553991|\n",
            "| 5.921578419643816|\n",
            "|  2.70805020110221|\n",
            "|  2.70805020110221|\n",
            "|2.4849066497880004|\n",
            "|  4.31748811353631|\n",
            "| 3.258096538021482|\n",
            "|2.4849066497880004|\n",
            "| 3.044522437723423|\n",
            "|2.5649493574615367|\n",
            "|3.7612001156935624|\n",
            "|2.8903717578961645|\n",
            "| 3.912023005428146|\n",
            "|2.1972245773362196|\n",
            "| 4.174387269895637|\n",
            "|2.5649493574615367|\n",
            "|2.3978952727983707|\n",
            "|2.4849066497880004|\n",
            "|2.5649493574615367|\n",
            "| 2.639057329615259|\n",
            "| 1.791759469228055|\n",
            "| 2.639057329615259|\n",
            "|2.3978952727983707|\n",
            "|3.1354942159291497|\n",
            "|1.9459101490553132|\n",
            "|2.0794415416798357|\n",
            "| 1.791759469228055|\n",
            "| 2.995732273553991|\n",
            "|2.1972245773362196|\n",
            "| 2.995732273553991|\n",
            "| 4.477336814478207|\n",
            "|4.6443908991413725|\n",
            "| 4.007333185232471|\n",
            "|3.4657359027997265|\n",
            "|2.4849066497880004|\n",
            "|3.5263605246161616|\n",
            "|2.3978952727983707|\n",
            "|2.5649493574615367|\n",
            "|2.1972245773362196|\n",
            "|  5.19295685089021|\n",
            "|2.1972245773362196|\n",
            "| 2.302585092994046|\n",
            "| 2.995732273553991|\n",
            "| 5.598421958998375|\n",
            "|3.1354942159291497|\n",
            "| 2.772588722239781|\n",
            "| 1.791759469228055|\n",
            "|3.1354942159291497|\n",
            "|2.8903717578961645|\n",
            "|3.4657359027997265|\n",
            "| 5.272999558563747|\n",
            "| 5.673323267171493|\n",
            "| 5.627621113690637|\n",
            "| 3.091042453358316|\n",
            "|2.4849066497880004|\n",
            "| 4.248495242049359|\n",
            "|2.3978952727983707|\n",
            "| 4.219507705176107|\n",
            "| 3.367295829986474|\n",
            "| 1.791759469228055|\n",
            "|3.7376696182833684|\n",
            "| 4.060443010546419|\n",
            "|3.4011973816621555|\n",
            "|2.3978952727983707|\n",
            "|3.2188758248682006|\n",
            "|2.4849066497880004|\n",
            "| 4.770684624465665|\n",
            "| 3.332204510175204|\n",
            "|3.5553480614894135|\n",
            "| 2.302585092994046|\n",
            "|2.1972245773362196|\n",
            "| 2.302585092994046|\n",
            "| 4.406719247264253|\n",
            "|2.5649493574615367|\n",
            "|3.5553480614894135|\n",
            "| 2.302585092994046|\n",
            "|2.0794415416798357|\n",
            "|2.0794415416798357|\n",
            "| 3.258096538021482|\n",
            "|2.1972245773362196|\n",
            "+------------------+\n",
            "\n",
            "CPU times: user 39.6 ms, sys: 6.79 ms, total: 46.4 ms\n",
            "Wall time: 31.6 s\n"
          ],
          "name": "stdout"
        }
      ]
    },
    {
      "cell_type": "code",
      "metadata": {
        "id": "z925HtXYYrVM",
        "colab": {
          "base_uri": "https://localhost:8080/"
        },
        "outputId": "0057c0ae-9733-4a1a-f54e-2890d4084c37"
      },
      "source": [
        "predictions_cv[\"userid\", \"name\", \"scaled_prediction\"].head(15)"
      ],
      "execution_count": 175,
      "outputs": [
        {
          "output_type": "execute_result",
          "data": {
            "text/plain": [
              "[Row(userid=1051976, name='Nocturnal Emissions', scaled_prediction=2.728607654571533),\n",
              " Row(userid=1062894, name='Nocturnal Emissions', scaled_prediction=3.5097970962524414),\n",
              " Row(userid=1031888, name='Nocturnal Emissions', scaled_prediction=4.095627784729004),\n",
              " Row(userid=2059316, name='Nocturnal Emissions', scaled_prediction=3.2552731037139893),\n",
              " Row(userid=2233968, name='Nocturnal Emissions', scaled_prediction=2.027165412902832),\n",
              " Row(userid=2213999, name='Utah Philips & Ani DiFranco', scaled_prediction=2.36053729057312),\n",
              " Row(userid=2009983, name='Utah Philips & Ani DiFranco', scaled_prediction=2.3376266956329346),\n",
              " Row(userid=2380458, name='Utah Philips & Ani DiFranco', scaled_prediction=2.2420849800109863),\n",
              " Row(userid=2418208, name='Utah Philips & Ani DiFranco', scaled_prediction=1.7211041450500488),\n",
              " Row(userid=2112919, name='Utah Philips & Ani DiFranco', scaled_prediction=1.9957594871520996),\n",
              " Row(userid=1000145, name='Zap Mama', scaled_prediction=2.514090061187744),\n",
              " Row(userid=1008690, name='Zap Mama', scaled_prediction=2.4734153747558594),\n",
              " Row(userid=1071243, name='Zap Mama', scaled_prediction=3.0945241451263428),\n",
              " Row(userid=2025687, name='Zap Mama', scaled_prediction=2.3420510292053223),\n",
              " Row(userid=2033921, name='Zap Mama', scaled_prediction=2.8426506519317627)]"
            ]
          },
          "metadata": {
            "tags": []
          },
          "execution_count": 175
        }
      ]
    },
    {
      "cell_type": "code",
      "metadata": {
        "id": "T05Ug9FiYrVJ",
        "colab": {
          "base_uri": "https://localhost:8080/"
        },
        "outputId": "da9b7404-9b34-4a9b-f248-87453174257e"
      },
      "source": [
        "users = [536, 384, 90, 2025687, 2167000]\n",
        "for user in users:\n",
        "    single_user = predictions_cv.filter(test[\"userid\"] == user).head()   \n",
        "    user_predictions(user)    "
      ],
      "execution_count": 174,
      "outputs": [
        {
          "output_type": "stream",
          "text": [
            "+------+-----------------+-----------------------------------------+\n",
            "|userid|scaled_prediction|artist                                   |\n",
            "+------+-----------------+-----------------------------------------+\n",
            "|536   |3.5949423        |The Smiths                               |\n",
            "|536   |3.4966516        |M.I.A.                                   |\n",
            "|536   |3.496069         |Aphex Twin                               |\n",
            "|536   |3.4844973        |Dom dummaste                             |\n",
            "|536   |3.4393044        |16 Horsepower                            |\n",
            "|536   |3.4231818        |Elvis Hitler                             |\n",
            "|536   |3.372198         |Morrissey                                |\n",
            "|536   |3.339166         |Hans Appelqvist                          |\n",
            "|536   |3.3087995        |Devo                                     |\n",
            "|536   |3.2962108        |Front Line Assembly                      |\n",
            "|536   |3.2717805        |Sepultura                                |\n",
            "|536   |3.2565274        |Cypress Hill                             |\n",
            "|536   |3.2395706        |The Pogues                               |\n",
            "|536   |3.1717548        |Goteki                                   |\n",
            "|536   |3.1418586        |The Mars Volta                           |\n",
            "|536   |3.127981         |Die Warzau - Big Electric Metal Bass Face|\n",
            "|536   |3.086593         |Madness                                  |\n",
            "|536   |3.0502262        |Public Image Ltd.                        |\n",
            "|536   |3.0328763        |Boytronic                                |\n",
            "|536   |3.024455         |En Halvkokt I Folie                      |\n",
            "+------+-----------------+-----------------------------------------+\n",
            "only showing top 20 rows\n",
            "\n",
            "+------+-----------------+----------------+\n",
            "|userid|scaled_prediction|artist          |\n",
            "+------+-----------------+----------------+\n",
            "|384   |4.181964         |Radiohead       |\n",
            "|384   |3.654487         |Cave In         |\n",
            "|384   |3.5897737        |Joanna Newsom   |\n",
            "|384   |3.5084524        |Rufus Wainwright|\n",
            "|384   |3.4906037        |Boards of Canada|\n",
            "|384   |3.4501958        |Fireside        |\n",
            "|384   |3.441953         |Emiliana Torrini|\n",
            "|384   |3.3993578        |Rival Schools   |\n",
            "|384   |3.3621614        |Filter          |\n",
            "|384   |3.323656         |New End Original|\n",
            "|384   |3.3038018        |Tricky          |\n",
            "|384   |3.2800875        |Turin Brakes    |\n",
            "|384   |3.1523478        |Will Haven      |\n",
            "|384   |2.9594169        |Brendan Perry   |\n",
            "|384   |2.8179536        |Pestilence      |\n",
            "+------+-----------------+----------------+\n",
            "\n",
            "+------+-----------------+----------------------+\n",
            "|userid|scaled_prediction|artist                |\n",
            "+------+-----------------+----------------------+\n",
            "|90    |3.545024         |Common                |\n",
            "|90    |3.3170102        |Cibo Matto            |\n",
            "|90    |3.2994647        |Kyoto Jazz Massive    |\n",
            "|90    |3.183438         |Gil Scott-Heron       |\n",
            "|90    |1.8519524        |Regulate... G Funk Era|\n",
            "+------+-----------------+----------------------+\n",
            "\n",
            "+-------+-----------------+----------------------+\n",
            "|userid |scaled_prediction|artist                |\n",
            "+-------+-----------------+----------------------+\n",
            "|2025687|3.3342476        |Bright Eyes           |\n",
            "|2025687|3.2260375        |Bloc Party            |\n",
            "|2025687|3.1507845        |Devendra Banhart      |\n",
            "|2025687|2.985904         |Neutral Milk Hotel    |\n",
            "|2025687|2.8725586        |Stereolab             |\n",
            "|2025687|2.866359         |Air                   |\n",
            "|2025687|2.8572032        |Kings of Leon         |\n",
            "|2025687|2.8206673        |múm                   |\n",
            "|2025687|2.8144805        |Tindersticks          |\n",
            "|2025687|2.7895613        |Mando Diao            |\n",
            "|2025687|2.7345881        |Sondre Lerche         |\n",
            "|2025687|2.7215116        |brazilian girls       |\n",
            "|2025687|2.714757         |Roots Manuva          |\n",
            "|2025687|2.7119913        |The Stills            |\n",
            "|2025687|2.7114508        |At the Drive-In       |\n",
            "|2025687|2.70434          |David Bowie           |\n",
            "|2025687|2.6724427        |Broadcast             |\n",
            "|2025687|2.6446176        |Starlight Mints       |\n",
            "|2025687|2.632116         |The Ladybug Transistor|\n",
            "|2025687|2.631955         |Trembling Blue Stars  |\n",
            "+-------+-----------------+----------------------+\n",
            "only showing top 20 rows\n",
            "\n",
            "+-------+-----------------+----------------------+\n",
            "|userid |scaled_prediction|artist                |\n",
            "+-------+-----------------+----------------------+\n",
            "|2167000|4.125106         |Need for Speed        |\n",
            "|2167000|3.9936066        |Hillsong United       |\n",
            "|2167000|3.977205         |Boards of Canada      |\n",
            "|2167000|3.7304747        |Dave Matthews Band    |\n",
            "|2167000|3.6496673        |Lamb                  |\n",
            "|2167000|3.6486733        |Amon Tobin            |\n",
            "|2167000|3.5676577        |Third Day             |\n",
            "|2167000|3.5641227        |川井憲次              |\n",
            "|2167000|3.5312505        |Harry Gregson-Williams|\n",
            "|2167000|3.4816792        |Röyksopp              |\n",
            "|2167000|3.3996272        |Nightmares on Wax     |\n",
            "|2167000|3.3992095        |Eric Serra            |\n",
            "|2167000|3.3774858        |Gorillaz              |\n",
            "|2167000|3.363941         |Sneaker Pimps         |\n",
            "|2167000|3.2570705        |Aim                   |\n",
            "|2167000|3.2146113        |AK1200                |\n",
            "|2167000|3.1517112        |Dzihan & Kamien       |\n",
            "|2167000|3.1446726        |Matt Redman           |\n",
            "|2167000|3.1350937        |Duncan Sheik          |\n",
            "|2167000|3.1335015        |Fluke                 |\n",
            "+-------+-----------------+----------------------+\n",
            "only showing top 20 rows\n",
            "\n"
          ],
          "name": "stdout"
        }
      ]
    },
    {
      "cell_type": "markdown",
      "metadata": {
        "id": "eoN5jjq2VFR0"
      },
      "source": [
        "### Conclusion\r\n",
        "\r\n",
        "We have introduced a recommender system based on a matrix factorization algorithm. The notebook showed that the ALS algorithm can be used with SPARK providing a large-scale recommendation tool. Good parameters are selected by a cross-validation approach."
      ]
    }
  ]
}